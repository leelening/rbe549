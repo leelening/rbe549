{
 "cells": [
  {
   "cell_type": "markdown",
   "metadata": {},
   "source": [
    "\n",
    "\n",
    "\n",
    "# RBE/CS549 Fall 2022: Computer Vision\n",
    "## Homework 0: Alohomora: Phase 1 Starter Code\n",
    "\n",
    "\n",
    "Author(s): \n",
    "Prof. Nitin J. Sanket (nsanket@wpi.edu)\n",
    "Assistant Professor,\n",
    "Robotics Engineering Department,\n",
    "Worcester Polytechnic Institute\n",
    "\n",
    "Code adapted from CMSC733 at the University of Maryland, College Park."
   ]
  },
  {
   "cell_type": "code",
   "execution_count": 3,
   "metadata": {},
   "outputs": [],
   "source": [
    "import numpy as np\n",
    "import cv2"
   ]
  },
  {
   "cell_type": "markdown",
   "metadata": {},
   "source": [
    "1. Generate Difference of Gaussian Filter Bank: (DoG)\n",
    "2. Display all the filters in this filter bank and save image as DoG.png,\n",
    "3. use command \"cv2.imwrite(...)\""
   ]
  },
  {
   "cell_type": "code",
   "execution_count": null,
   "metadata": {},
   "outputs": [],
   "source": []
  },
  {
   "cell_type": "markdown",
   "metadata": {},
   "source": [
    "\n",
    "1. Generate Leung-Malik Filter Bank: (LM)\n",
    "2. Display all the filters in this filter bank and save image as LM.png,\n",
    "3. use command \"cv2.imwrite(...)\"\n"
   ]
  },
  {
   "cell_type": "code",
   "execution_count": null,
   "metadata": {},
   "outputs": [],
   "source": []
  },
  {
   "cell_type": "markdown",
   "metadata": {},
   "source": [
    "1. Generate Gabor Filter Bank: (Gabor)\n",
    "2. Display all the filters in this filter bank and save image as Gabor.png,\n",
    "3. use command \"cv2.imwrite(...)\"\n"
   ]
  },
  {
   "cell_type": "code",
   "execution_count": null,
   "metadata": {},
   "outputs": [],
   "source": []
  },
  {
   "cell_type": "markdown",
   "metadata": {},
   "source": [
    "1. Generate Half-disk masks\n",
    "2. Display all the Half-disk masks and save image as HDMasks.png,\n",
    "3. use command \"cv2.imwrite(...)\""
   ]
  },
  {
   "cell_type": "code",
   "execution_count": null,
   "metadata": {},
   "outputs": [],
   "source": []
  },
  {
   "cell_type": "markdown",
   "metadata": {},
   "source": [
    "1. Generate Texton Map\n",
    "2. Filter image using oriented gaussian filter bank\n"
   ]
  },
  {
   "cell_type": "code",
   "execution_count": null,
   "metadata": {},
   "outputs": [],
   "source": []
  },
  {
   "cell_type": "markdown",
   "metadata": {},
   "source": [
    "1. Generate texture ID's using K-means clustering\n",
    "2. Display texton map and save image as TextonMap_ImageName.png,\n",
    "3. use command \"cv2.imwrite('...)\"\n"
   ]
  },
  {
   "cell_type": "code",
   "execution_count": null,
   "metadata": {},
   "outputs": [],
   "source": []
  },
  {
   "cell_type": "markdown",
   "metadata": {},
   "source": [
    "1. Generate Texton Gradient (Tg)\n",
    "2. Perform Chi-square calculation on Texton Map\n",
    "3. Display Tg and save image as Tg_ImageName.png,\n",
    "4. use command \"cv2.imwrite(...)\"\n"
   ]
  },
  {
   "cell_type": "code",
   "execution_count": null,
   "metadata": {},
   "outputs": [],
   "source": []
  },
  {
   "cell_type": "markdown",
   "metadata": {},
   "source": [
    "1. Generate Brightness Map\n",
    "2. Perform brightness binning\n"
   ]
  },
  {
   "cell_type": "code",
   "execution_count": null,
   "metadata": {},
   "outputs": [],
   "source": []
  },
  {
   "cell_type": "markdown",
   "metadata": {},
   "source": [
    "1. Generate Brightness Gradient (Bg)\n",
    "2. Perform Chi-square calculation on Brightness Map\n",
    "3. Display Bg and save image as Bg_ImageName.png,\n",
    "4. use command \"cv2.imwrite(...)\"\n",
    "\n"
   ]
  },
  {
   "cell_type": "code",
   "execution_count": null,
   "metadata": {},
   "outputs": [],
   "source": []
  },
  {
   "cell_type": "markdown",
   "metadata": {},
   "source": [
    "1. Generate Color Map\n",
    "2. Perform color binning or clustering\n"
   ]
  },
  {
   "cell_type": "code",
   "execution_count": null,
   "metadata": {},
   "outputs": [],
   "source": []
  },
  {
   "cell_type": "markdown",
   "metadata": {},
   "source": [
    "\n",
    "\n",
    "\n",
    "1. Generate Color Gradient (Cg)\n",
    "2. Perform Chi-square calculation on Color Map\n",
    "3. Display Cg and save image as Cg_ImageName.png,\n",
    "4. use command \"cv2.imwrite(...)\"\n",
    "\n"
   ]
  },
  {
   "cell_type": "code",
   "execution_count": null,
   "metadata": {},
   "outputs": [],
   "source": []
  },
  {
   "cell_type": "markdown",
   "metadata": {},
   "source": [
    "\n",
    "1. Read Sobel Baseline\n",
    "2. use command \"cv2.imread(...)\"\n"
   ]
  },
  {
   "cell_type": "code",
   "execution_count": null,
   "metadata": {},
   "outputs": [],
   "source": []
  },
  {
   "cell_type": "markdown",
   "metadata": {},
   "source": [
    "\n",
    "\n",
    "\n",
    "1. Read Canny Baseline\n",
    "2. use command \"cv2.imread(...)\"\n",
    "\n"
   ]
  },
  {
   "cell_type": "code",
   "execution_count": null,
   "metadata": {},
   "outputs": [],
   "source": []
  },
  {
   "cell_type": "markdown",
   "metadata": {},
   "source": [
    "\n",
    "\n",
    "1. Combine responses to get pb-lite output\n",
    "2. Display PbLite and save image as PbLite_ImageName.png\n",
    "3. use command \"cv2.imwrite(...)\"\n",
    "\n"
   ]
  },
  {
   "cell_type": "code",
   "execution_count": null,
   "metadata": {},
   "outputs": [],
   "source": []
  }
 ],
 "metadata": {
  "kernelspec": {
   "display_name": "Python 3.9.10 ('py39')",
   "language": "python",
   "name": "python3"
  },
  "language_info": {
   "codemirror_mode": {
    "name": "ipython",
    "version": 3
   },
   "file_extension": ".py",
   "mimetype": "text/x-python",
   "name": "python",
   "nbconvert_exporter": "python",
   "pygments_lexer": "ipython3",
   "version": "3.9.10"
  },
  "orig_nbformat": 4,
  "vscode": {
   "interpreter": {
    "hash": "2762af0fb94193cc770e2dbb99b50503f4c838317f9fa63bb8a7461c3d6fd280"
   }
  }
 },
 "nbformat": 4,
 "nbformat_minor": 2
}
